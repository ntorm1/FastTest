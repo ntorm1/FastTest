{
 "cells": [
  {
   "cell_type": "code",
   "execution_count": 2,
   "metadata": {},
   "outputs": [],
   "source": [
    "import vectorbt as vbt\n",
    "import time"
   ]
  },
  {
   "cell_type": "code",
   "execution_count": 3,
   "metadata": {},
   "outputs": [],
   "source": [
    "\n",
    "start = '2018-01-01 UTC'  # crypto is in UTC\n",
    "end = '2024-01-01 UTC'\n",
    "btc_price = vbt.YFData.download('BTC-USD', start=start, end=end).get('Close')"
   ]
  },
  {
   "cell_type": "code",
   "execution_count": 7,
   "metadata": {},
   "outputs": [
    {
     "name": "stdout",
     "output_type": "stream",
     "text": [
      "Total return: 459.927%\n",
      "Time elapsed Avg: 55.494 ms\n"
     ]
    }
   ],
   "source": [
    "\n",
    "st = time.perf_counter_ns()\n",
    "fast_ma = vbt.MA.run(btc_price, 50, short_name='fast')\n",
    "slow_ma = vbt.MA.run(btc_price, 200, short_name='slow')\n",
    "entries = fast_ma.ma_crossed_above(slow_ma)\n",
    "exits = fast_ma.ma_crossed_below(slow_ma)\n",
    "pf = vbt.Portfolio.from_signals(btc_price, entries, exits)\n",
    "et = time.perf_counter_ns()\n",
    "avg_time_millis = (et-st) / 1e6\n",
    "tr = pf.total_return()\n",
    "\n",
    "print(f\"Total return: {tr:.3%}\")\n",
    "print(f\"Time elapsed Avg: {avg_time_millis:.3f} ms\")"
   ]
  },
  {
   "cell_type": "code",
   "execution_count": null,
   "metadata": {},
   "outputs": [],
   "source": []
  }
 ],
 "metadata": {
  "kernelspec": {
   "display_name": "Python 3",
   "language": "python",
   "name": "python3"
  },
  "language_info": {
   "codemirror_mode": {
    "name": "ipython",
    "version": 3
   },
   "file_extension": ".py",
   "mimetype": "text/x-python",
   "name": "python",
   "nbconvert_exporter": "python",
   "pygments_lexer": "ipython3",
   "version": "3.8.10"
  }
 },
 "nbformat": 4,
 "nbformat_minor": 2
}
